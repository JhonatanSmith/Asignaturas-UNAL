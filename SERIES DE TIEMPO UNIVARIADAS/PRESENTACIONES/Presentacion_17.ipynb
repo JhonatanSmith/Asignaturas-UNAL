{
 "cells": [
  {
   "cell_type": "markdown",
   "id": "2d56fa5f",
   "metadata": {},
   "source": [
    "# Presentación 17:\n",
    "\n",
    "En esta presentación veremos cómo ajustar y realizar pronósticos con un modelo $SARIMA(p, d, q)\\times(P, D, Q)_s$ en Python.\n",
    "\n",
    "Además, veremos el equivalente a auto.arima del R."
   ]
  },
  {
   "cell_type": "markdown",
   "id": "fd8c7347",
   "metadata": {},
   "source": [
    "Instalemos primero el módulo __pmdarima__ para utilizar la función __auto_arima__. El sitio web del módulo está [AQUÍ](https://pypi.org/project/pmdarima/). El siguiente código solo se ejecuta una vez y, con ello, el módulo ya está listo para usarse (no debe ejecutare ya más):"
   ]
  },
  {
   "cell_type": "code",
   "execution_count": null,
   "id": "dbdc4950",
   "metadata": {},
   "outputs": [],
   "source": [
    "!pip install pmdarima"
   ]
  },
  {
   "cell_type": "code",
   "execution_count": null,
   "id": "f6cff473",
   "metadata": {},
   "outputs": [],
   "source": [
    "import pmdarima as pm\n",
    "import numpy as np # Para trabajar con vectores y matrices\n",
    "from matplotlib import pyplot as plt # Para graficar\n",
    "import pandas as pd # Para trabajar con bases de datos\n",
    "from statsmodels.tsa.arima.model import ARIMA\n",
    "# from statsmodels.tsa.arima_model import ARIMA # Para cambiar el número maxiter.\n",
    "from statsmodels.tsa.stattools import acf, pacf\n",
    "from statsmodels.graphics.tsaplots import plot_acf, plot_pacf\n",
    "from statsmodels.tsa.stattools import adfuller\n",
    "from statsmodels.tsa.statespace.sarimax import SARIMAX\n",
    "plt.style.use('fivethirtyeight') # Para dar un estilo distinto a los gráficos"
   ]
  },
  {
   "cell_type": "code",
   "execution_count": null,
   "id": "34cb14e0",
   "metadata": {},
   "outputs": [],
   "source": [
    "SARIMAX?"
   ]
  },
  {
   "cell_type": "code",
   "execution_count": null,
   "id": "6e4b8aee",
   "metadata": {},
   "outputs": [],
   "source": [
    "pm.auto_arima?"
   ]
  },
  {
   "cell_type": "code",
   "execution_count": null,
   "id": "c4caa6bc",
   "metadata": {},
   "outputs": [],
   "source": [
    "direccion = \"../../DATOS/anexo_empleo_ago_22.xlsx\"\n",
    "bd_original = pd.read_excel(direccion, sheet_name=\"Total nacional\",\n",
    "                           skiprows=12)"
   ]
  },
  {
   "cell_type": "code",
   "execution_count": null,
   "id": "5db4ce37",
   "metadata": {
    "scrolled": true
   },
   "outputs": [],
   "source": [
    "bd_original.head()"
   ]
  },
  {
   "cell_type": "code",
   "execution_count": null,
   "id": "717572a5",
   "metadata": {},
   "outputs": [],
   "source": [
    "bd_original.shape"
   ]
  },
  {
   "cell_type": "code",
   "execution_count": null,
   "id": "a78153a7",
   "metadata": {
    "scrolled": false
   },
   "outputs": [],
   "source": [
    "bd_original.iloc[3,1:261].to_frame().reset_index().iloc[:,1].to_frame().rename(columns={3:\"td\"})"
   ]
  },
  {
   "cell_type": "code",
   "execution_count": null,
   "id": "d41dc0ec",
   "metadata": {},
   "outputs": [],
   "source": [
    "tasa_desemp=bd_original.iloc[3,1:261].to_frame().reset_index().iloc[:,1].to_frame().rename(columns={3:\"td\"})"
   ]
  },
  {
   "cell_type": "code",
   "execution_count": null,
   "id": "6052d277",
   "metadata": {},
   "outputs": [],
   "source": [
    "tasa_desemp.dtypes"
   ]
  },
  {
   "cell_type": "code",
   "execution_count": null,
   "id": "325f2c5b",
   "metadata": {},
   "outputs": [],
   "source": [
    "tasa_desemp.td = tasa_desemp.td.astype(\"float\")"
   ]
  },
  {
   "cell_type": "code",
   "execution_count": null,
   "id": "3273afaf",
   "metadata": {},
   "outputs": [],
   "source": [
    "pd.date_range(start=\"2001-01-1\",end=\"2022-09-01\", freq=\"M\")"
   ]
  },
  {
   "cell_type": "code",
   "execution_count": null,
   "id": "09ec26e2",
   "metadata": {
    "scrolled": true
   },
   "outputs": [],
   "source": [
    "tasa_desemp[\"fecha\"]=pd.date_range(start=\"2001-01-1\",end=\"2022-09-01\", freq=\"M\")"
   ]
  },
  {
   "cell_type": "code",
   "execution_count": null,
   "id": "91f014a0",
   "metadata": {},
   "outputs": [],
   "source": [
    "tasa_desemp"
   ]
  },
  {
   "cell_type": "code",
   "execution_count": null,
   "id": "4184529c",
   "metadata": {
    "scrolled": true
   },
   "outputs": [],
   "source": [
    "plt.figure(figsize=(16,4))\n",
    "plt.plot(tasa_desemp.fecha, tasa_desemp.td)\n",
    "plt.show()"
   ]
  },
  {
   "cell_type": "markdown",
   "id": "577ce64d",
   "metadata": {},
   "source": [
    "## Actividad:\n",
    "\n",
    "1. Realice los gráficos ACF y PACF para tratar de identificar los órdenes del modelo $SARIMA(p, d, q)\\times(P,D,Q)_s$.\n",
    "\n",
    "2. Aplique la prueba de Dickey-Fuller para ver si es necesario tomar diferencias (valor de $d$). \n",
    "\n",
    "3. Aplique varios modelos y use un criterio de selección (AIC, BIC) para seleccionar el \"mejor\".\n",
    "\n",
    "4. Verifique si existe autocorrelación en los residuales del modelo seleccionado utilizando el gráfico ACF y complementando con la prueba de Ljung-Box.\n",
    "\n",
    "5. Verifique si hay normalidad en los residuales del modelo.\n",
    "\n",
    "6. Si todo lo anterior se cumple entonces puede realizar pronósticos con el \"mejor\" modelo ajustado.\n",
    "\n",
    "7. Realice el mismo procedimiento para la serie de la BD USgas.csv"
   ]
  },
  {
   "cell_type": "code",
   "execution_count": null,
   "id": "fa393a43",
   "metadata": {},
   "outputs": [],
   "source": [
    "modelo1 = SARIMAX(tasa_desemp.td, order=(0, 1, 0),\n",
    "    seasonal_order=(0, 0, 4, 6)).fit()"
   ]
  },
  {
   "cell_type": "code",
   "execution_count": null,
   "id": "0ed97322",
   "metadata": {},
   "outputs": [],
   "source": [
    "modelo1.summary()"
   ]
  },
  {
   "cell_type": "code",
   "execution_count": null,
   "id": "f02294f6",
   "metadata": {
    "scrolled": true
   },
   "outputs": [],
   "source": [
    "modelo1.summary().tables[1]"
   ]
  },
  {
   "cell_type": "code",
   "execution_count": null,
   "id": "4cd61673",
   "metadata": {
    "scrolled": false
   },
   "outputs": [],
   "source": [
    "modelo1.plot_diagnostics(figsize=(15, 12))\n",
    "plt.show()"
   ]
  },
  {
   "cell_type": "markdown",
   "id": "9a84b914",
   "metadata": {},
   "source": [
    "Como era de esperarse los residuales son no correlacionados (se ve en el gráfico de la ACF con todos los valores dentro de la banda de confianza), oscilan alrededor del cero con varianza constante (primer gráfico) y se observa gráficamente que siguen una distribución normal."
   ]
  },
  {
   "cell_type": "markdown",
   "id": "80dd8b87",
   "metadata": {},
   "source": [
    "6. Realizamos entonces pronósticos. Existen dos funciones o procesos: __get_prediction__ (permite hacer predicciones de toda la serie y del futuro de la misma desde un punto inicial hasta un punto final) y __get_forecast__ (solo permite realizar predicciones futuras). En escencia el  __get_forecast__ es un caso particular del __get_prediction__."
   ]
  },
  {
   "cell_type": "code",
   "execution_count": null,
   "id": "67775d85",
   "metadata": {},
   "outputs": [],
   "source": [
    "pred.conf_int?"
   ]
  },
  {
   "cell_type": "code",
   "execution_count": null,
   "id": "9e4acfdf",
   "metadata": {
    "scrolled": true
   },
   "outputs": [],
   "source": [
    "pred = modelo1.get_prediction(start=260, end=271, dynamic=False) # dynamic=False evita que las predicciones futuras\n",
    "                                                               # se conviertan en datos de la muestra para predicciones \n",
    "                                                               # que van más adelante.\n",
    "pred_ci = pred.conf_int(alpha=0.05) # Intervalo de confianza \n",
    "pred_ci"
   ]
  },
  {
   "cell_type": "code",
   "execution_count": null,
   "id": "0ac41019",
   "metadata": {},
   "outputs": [],
   "source": [
    "pred.predicted_mean # Valores predichos a futuro."
   ]
  },
  {
   "cell_type": "code",
   "execution_count": null,
   "id": "dbff6478",
   "metadata": {},
   "outputs": [],
   "source": [
    "fore = modelo1.get_forecast(12) # Obtenemos lo mismo que con el proceso anterior\n",
    "fore_ci = fore.conf_int()\n",
    "fore_ci"
   ]
  },
  {
   "cell_type": "code",
   "execution_count": null,
   "id": "827e76bb",
   "metadata": {},
   "outputs": [],
   "source": [
    "fore.predicted_mean # Valores predichos a futuro."
   ]
  },
  {
   "cell_type": "code",
   "execution_count": null,
   "id": "cfaf496c",
   "metadata": {},
   "outputs": [],
   "source": [
    "td_pred = np.concatenate((tasa_desemp.td, fore.predicted_mean)) # Adicionamos a la serie original las predicciones.\n",
    "td_pred"
   ]
  },
  {
   "cell_type": "code",
   "execution_count": null,
   "id": "a0639d66",
   "metadata": {
    "scrolled": false
   },
   "outputs": [],
   "source": [
    "td_pred[260:272]"
   ]
  },
  {
   "cell_type": "code",
   "execution_count": null,
   "id": "2228af1a",
   "metadata": {
    "scrolled": true
   },
   "outputs": [],
   "source": [
    "plt.figure(figsize=(16,8))  #  Graficamos:\n",
    "plt.plot(td_pred, marker=\"o\")\n",
    "plt.plot(range(260,272,1),td_pred[260:273], marker=\"o\")\n",
    "plt.plot(range(260,272,1), pred_ci.iloc[:,0], marker=\"o\", color=\"green\")\n",
    "plt.plot(range(260,272,1), pred_ci.iloc[:,1], marker=\"o\", color=\"green\")\n",
    "plt.show()"
   ]
  },
  {
   "cell_type": "markdown",
   "id": "29e05c81",
   "metadata": {},
   "source": [
    "## Ahora proponga varios modelos y seleccione el \"mejor\". Luego aplique la función auto_arima.\n",
    "\n"
   ]
  }
 ],
 "metadata": {
  "kernelspec": {
   "display_name": "Python 3 (ipykernel)",
   "language": "python",
   "name": "python3"
  },
  "language_info": {
   "codemirror_mode": {
    "name": "ipython",
    "version": 3
   },
   "file_extension": ".py",
   "mimetype": "text/x-python",
   "name": "python",
   "nbconvert_exporter": "python",
   "pygments_lexer": "ipython3",
   "version": "3.9.7"
  }
 },
 "nbformat": 4,
 "nbformat_minor": 5
}
